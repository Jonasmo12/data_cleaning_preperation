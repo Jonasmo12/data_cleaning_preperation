{
  "nbformat": 4,
  "nbformat_minor": 0,
  "metadata": {
    "colab": {
      "provenance": [],
      "collapsed_sections": []
    },
    "kernelspec": {
      "name": "python3",
      "display_name": "Python 3"
    },
    "language_info": {
      "name": "python"
    }
  },
  "cells": [
    {
      "cell_type": "markdown",
      "source": [
        "# **Data Cleaning Framework**\n",
        "\n",
        "**Telecom Churn Prediction**"
      ],
      "metadata": {
        "id": "z-loEyY9fQEW"
      }
    },
    {
      "cell_type": "code",
      "execution_count": 1,
      "metadata": {
        "id": "d0wubEdrHhya"
      },
      "outputs": [],
      "source": [
        "# import libraries\n",
        "import pandas as pd\n",
        "import numpy as np"
      ]
    },
    {
      "cell_type": "code",
      "source": [
        "# read data\n",
        "churn_data = pd.read_csv(\"/content/churn_data.csv\")\n",
        "churn_data.head(5)"
      ],
      "metadata": {
        "id": "5yfToZOdMlJO"
      },
      "execution_count": null,
      "outputs": []
    },
    {
      "cell_type": "markdown",
      "source": [
        "#**Assessing Data**\n",
        "**Detecting Issues**"
      ],
      "metadata": {
        "id": "F6_te_IEgITX"
      }
    },
    {
      "cell_type": "code",
      "source": [
        "churn_data.dtypes"
      ],
      "metadata": {
        "colab": {
          "base_uri": "https://localhost:8080/"
        },
        "id": "bMkn-HoTgYny",
        "outputId": "f067b3fe-7051-464a-faeb-ac6e44c02812"
      },
      "execution_count": 4,
      "outputs": [
        {
          "output_type": "execute_result",
          "data": {
            "text/plain": [
              "customerID           object\n",
              "gender               object\n",
              "SeniorCitizen         int64\n",
              "Partner              object\n",
              "Dependents           object\n",
              "tenure                int64\n",
              "PhoneService         object\n",
              "MultipleLines        object\n",
              "InternetService      object\n",
              "OnlineSecurity       object\n",
              "OnlineBackup         object\n",
              "DeviceProtection     object\n",
              "TechSupport          object\n",
              "StreamingTV          object\n",
              "StreamingMovies      object\n",
              "Contract             object\n",
              "PaperlessBilling     object\n",
              "PaymentMethod        object\n",
              "MonthlyCharges      float64\n",
              "TotalCharges         object\n",
              "Churn                object\n",
              "dtype: object"
            ]
          },
          "metadata": {},
          "execution_count": 4
        }
      ]
    },
    {
      "cell_type": "code",
      "source": [
        "# copying dataframe for cleaning\n",
        "churn_data_copy = churn_data.copy() "
      ],
      "metadata": {
        "id": "n4ZItnItgbRw"
      },
      "execution_count": 36,
      "outputs": []
    },
    {
      "cell_type": "markdown",
      "source": [
        "#**Document Issues**\n",
        "**Quality Issues:**\n",
        "\n",
        "\n",
        "*   transform column names to lowercase.\n",
        "*   remove rows with null values in total charge column.\n",
        "*   change total charges from object type to float type.\n",
        "\n",
        "**Tidy Issues:**\n",
        "* split columns of contracts, payment method, multiplelines, and internetservice.\n",
        "* drop customerID column, paperlessbilling, onlinebackup, onlinesecurity and techsupport.\n",
        "\n"
      ],
      "metadata": {
        "id": "qgQZ7dJkglrZ"
      }
    },
    {
      "cell_type": "markdown",
      "source": [
        "# **Data Cleaning**\n",
        "**Quality Issue #1**\n",
        "#### **Define:** \n",
        "\n",
        "\n",
        "*   transform column names to lowercase and split features.\n",
        "\n",
        "\n",
        "**Code:**\n",
        "\n"
      ],
      "metadata": {
        "id": "GHpO0-BXjaOE"
      }
    },
    {
      "cell_type": "code",
      "source": [
        "# features to lowercase\n",
        "churn_data_copy.columns = map(str.lower, churn_data_copy.columns)"
      ],
      "metadata": {
        "id": "A5BEer4mjaOH"
      },
      "execution_count": 37,
      "outputs": []
    },
    {
      "cell_type": "code",
      "source": [
        "# add underscore to separate words\n",
        "churn_data_copy.rename(\n",
        "    {\n",
        "        'seniorcitizen': 'senior_citizen',\n",
        "        'phoneservice': 'phone_service',\n",
        "        'multiplelines': 'multiple_lines',\n",
        "        'internetservice': 'internet_service',\n",
        "        'deviceprotection': 'device_protection',\n",
        "        'streamingtv': 'streaming_tv',\n",
        "        'streamingmovies': 'streaming_movies',\n",
        "        'paymentmethod': 'payment_method',\n",
        "        'monthlycharges': 'monthly_charges',\n",
        "        'totalcharges': 'total_charges'\n",
        "  }, axis=1, inplace=True\n",
        ")"
      ],
      "metadata": {
        "id": "L-Ge3rFp9cxu"
      },
      "execution_count": 38,
      "outputs": []
    },
    {
      "cell_type": "markdown",
      "source": [
        "**Test:**"
      ],
      "metadata": {
        "id": "qi9bv6WUjaOK"
      }
    },
    {
      "cell_type": "code",
      "source": [
        "churn_data_copy.dtypes"
      ],
      "metadata": {
        "colab": {
          "base_uri": "https://localhost:8080/"
        },
        "id": "5dPMpHNcjaOM",
        "outputId": "a60a850a-6d27-4b27-9aaa-717326da588b"
      },
      "execution_count": 39,
      "outputs": [
        {
          "output_type": "execute_result",
          "data": {
            "text/plain": [
              "customerid            object\n",
              "gender                object\n",
              "senior_citizen         int64\n",
              "partner               object\n",
              "dependents            object\n",
              "tenure                 int64\n",
              "phone_service         object\n",
              "multiple_lines        object\n",
              "internet_service      object\n",
              "onlinesecurity        object\n",
              "onlinebackup          object\n",
              "device_protection     object\n",
              "techsupport           object\n",
              "streaming_tv          object\n",
              "streaming_movies      object\n",
              "contract              object\n",
              "paperlessbilling      object\n",
              "payment_method        object\n",
              "monthly_charges      float64\n",
              "total_charges         object\n",
              "churn                 object\n",
              "dtype: object"
            ]
          },
          "metadata": {},
          "execution_count": 39
        }
      ]
    },
    {
      "cell_type": "markdown",
      "source": [
        "\n",
        "**Quality Issue #2**\n",
        "\n",
        "**Define:** \n",
        "\n",
        "\n",
        "*   change total charges from object type to float type.\n",
        "*   remove rows with null values in total charge column.\n",
        "\n",
        "\n",
        "**Code:**\n",
        "\n"
      ],
      "metadata": {
        "id": "jMRK98UZjNuR"
      }
    },
    {
      "cell_type": "code",
      "source": [
        "# remove rows with null values.\n",
        "churn_data_copy = churn_data_copy[churn_data_copy.total_charges != \" \"]\n",
        "# churn_data_copy.dropna(inplace=True)"
      ],
      "metadata": {
        "id": "kuRZXCJSwqGp"
      },
      "execution_count": 40,
      "outputs": []
    },
    {
      "cell_type": "code",
      "source": [
        "# convert to float.\n",
        "churn_data_copy.total_charges = pd.to_numeric(churn_data_copy.total_charges)"
      ],
      "metadata": {
        "id": "n644wxYAjNuU"
      },
      "execution_count": 41,
      "outputs": []
    },
    {
      "cell_type": "markdown",
      "source": [
        "**Test:**"
      ],
      "metadata": {
        "id": "ONN5xq7ojNuW"
      }
    },
    {
      "cell_type": "code",
      "source": [
        "# test type of floats \n",
        "churn_data_copy.total_charges.dtypes"
      ],
      "metadata": {
        "colab": {
          "base_uri": "https://localhost:8080/"
        },
        "id": "i3nzE40vjNuX",
        "outputId": "2326c2ce-639e-4210-fd0e-8d4171e33fc6"
      },
      "execution_count": 42,
      "outputs": [
        {
          "output_type": "execute_result",
          "data": {
            "text/plain": [
              "dtype('float64')"
            ]
          },
          "metadata": {},
          "execution_count": 42
        }
      ]
    },
    {
      "cell_type": "code",
      "source": [
        "# check if empty rows are removed\n",
        "churn_data_copy.shape"
      ],
      "metadata": {
        "colab": {
          "base_uri": "https://localhost:8080/"
        },
        "id": "qkLqe7Fixwh2",
        "outputId": "9fee9930-752a-4054-84a4-0277235764ce"
      },
      "execution_count": 43,
      "outputs": [
        {
          "output_type": "execute_result",
          "data": {
            "text/plain": [
              "(7032, 21)"
            ]
          },
          "metadata": {},
          "execution_count": 43
        }
      ]
    },
    {
      "cell_type": "markdown",
      "source": [
        "**Tidiness Issue #1**\n",
        "\n",
        "**Define:**\n",
        "\n",
        "* drop columns.\n",
        "\n",
        "**Code:**"
      ],
      "metadata": {
        "id": "tSOxyUGzj_xy"
      }
    },
    {
      "cell_type": "code",
      "source": [
        "churn_data_copy.drop(columns=[\n",
        "    'customerid', \n",
        "    'onlinesecurity', \n",
        "    'techsupport', \n",
        "    'paperlessbilling', \n",
        "    'onlinebackup'], axis=1, inplace=True\n",
        ")"
      ],
      "metadata": {
        "id": "tJkBZPgrkmnJ"
      },
      "execution_count": 45,
      "outputs": []
    },
    {
      "cell_type": "markdown",
      "source": [
        "**Test:**"
      ],
      "metadata": {
        "id": "raqU0Hjkkn6o"
      }
    },
    {
      "cell_type": "code",
      "source": [
        "churn_data_copy.head(5)"
      ],
      "metadata": {
        "colab": {
          "base_uri": "https://localhost:8080/",
          "height": 340
        },
        "id": "ao67FUoSkqjZ",
        "outputId": "028950b3-faac-413f-d24d-20c90c85df40"
      },
      "execution_count": 46,
      "outputs": [
        {
          "output_type": "execute_result",
          "data": {
            "text/plain": [
              "   gender  senior_citizen partner dependents  tenure phone_service  \\\n",
              "0  Female               0     Yes         No       1            No   \n",
              "1    Male               0      No         No      34           Yes   \n",
              "2    Male               0      No         No       2           Yes   \n",
              "3    Male               0      No         No      45            No   \n",
              "4  Female               0      No         No       2           Yes   \n",
              "\n",
              "     multiple_lines internet_service device_protection streaming_tv  \\\n",
              "0  No phone service              DSL                No           No   \n",
              "1                No              DSL               Yes           No   \n",
              "2                No              DSL                No           No   \n",
              "3  No phone service              DSL               Yes           No   \n",
              "4                No      Fiber optic                No           No   \n",
              "\n",
              "  streaming_movies        contract             payment_method  \\\n",
              "0               No  Month-to-month           Electronic check   \n",
              "1               No        One year               Mailed check   \n",
              "2               No  Month-to-month               Mailed check   \n",
              "3               No        One year  Bank transfer (automatic)   \n",
              "4               No  Month-to-month           Electronic check   \n",
              "\n",
              "   monthly_charges  total_charges churn  \n",
              "0            29.85          29.85    No  \n",
              "1            56.95        1889.50    No  \n",
              "2            53.85         108.15   Yes  \n",
              "3            42.30        1840.75    No  \n",
              "4            70.70         151.65   Yes  "
            ],
            "text/html": [
              "\n",
              "  <div id=\"df-a2855215-972a-4475-bebb-0abc9be8167e\">\n",
              "    <div class=\"colab-df-container\">\n",
              "      <div>\n",
              "<style scoped>\n",
              "    .dataframe tbody tr th:only-of-type {\n",
              "        vertical-align: middle;\n",
              "    }\n",
              "\n",
              "    .dataframe tbody tr th {\n",
              "        vertical-align: top;\n",
              "    }\n",
              "\n",
              "    .dataframe thead th {\n",
              "        text-align: right;\n",
              "    }\n",
              "</style>\n",
              "<table border=\"1\" class=\"dataframe\">\n",
              "  <thead>\n",
              "    <tr style=\"text-align: right;\">\n",
              "      <th></th>\n",
              "      <th>gender</th>\n",
              "      <th>senior_citizen</th>\n",
              "      <th>partner</th>\n",
              "      <th>dependents</th>\n",
              "      <th>tenure</th>\n",
              "      <th>phone_service</th>\n",
              "      <th>multiple_lines</th>\n",
              "      <th>internet_service</th>\n",
              "      <th>device_protection</th>\n",
              "      <th>streaming_tv</th>\n",
              "      <th>streaming_movies</th>\n",
              "      <th>contract</th>\n",
              "      <th>payment_method</th>\n",
              "      <th>monthly_charges</th>\n",
              "      <th>total_charges</th>\n",
              "      <th>churn</th>\n",
              "    </tr>\n",
              "  </thead>\n",
              "  <tbody>\n",
              "    <tr>\n",
              "      <th>0</th>\n",
              "      <td>Female</td>\n",
              "      <td>0</td>\n",
              "      <td>Yes</td>\n",
              "      <td>No</td>\n",
              "      <td>1</td>\n",
              "      <td>No</td>\n",
              "      <td>No phone service</td>\n",
              "      <td>DSL</td>\n",
              "      <td>No</td>\n",
              "      <td>No</td>\n",
              "      <td>No</td>\n",
              "      <td>Month-to-month</td>\n",
              "      <td>Electronic check</td>\n",
              "      <td>29.85</td>\n",
              "      <td>29.85</td>\n",
              "      <td>No</td>\n",
              "    </tr>\n",
              "    <tr>\n",
              "      <th>1</th>\n",
              "      <td>Male</td>\n",
              "      <td>0</td>\n",
              "      <td>No</td>\n",
              "      <td>No</td>\n",
              "      <td>34</td>\n",
              "      <td>Yes</td>\n",
              "      <td>No</td>\n",
              "      <td>DSL</td>\n",
              "      <td>Yes</td>\n",
              "      <td>No</td>\n",
              "      <td>No</td>\n",
              "      <td>One year</td>\n",
              "      <td>Mailed check</td>\n",
              "      <td>56.95</td>\n",
              "      <td>1889.50</td>\n",
              "      <td>No</td>\n",
              "    </tr>\n",
              "    <tr>\n",
              "      <th>2</th>\n",
              "      <td>Male</td>\n",
              "      <td>0</td>\n",
              "      <td>No</td>\n",
              "      <td>No</td>\n",
              "      <td>2</td>\n",
              "      <td>Yes</td>\n",
              "      <td>No</td>\n",
              "      <td>DSL</td>\n",
              "      <td>No</td>\n",
              "      <td>No</td>\n",
              "      <td>No</td>\n",
              "      <td>Month-to-month</td>\n",
              "      <td>Mailed check</td>\n",
              "      <td>53.85</td>\n",
              "      <td>108.15</td>\n",
              "      <td>Yes</td>\n",
              "    </tr>\n",
              "    <tr>\n",
              "      <th>3</th>\n",
              "      <td>Male</td>\n",
              "      <td>0</td>\n",
              "      <td>No</td>\n",
              "      <td>No</td>\n",
              "      <td>45</td>\n",
              "      <td>No</td>\n",
              "      <td>No phone service</td>\n",
              "      <td>DSL</td>\n",
              "      <td>Yes</td>\n",
              "      <td>No</td>\n",
              "      <td>No</td>\n",
              "      <td>One year</td>\n",
              "      <td>Bank transfer (automatic)</td>\n",
              "      <td>42.30</td>\n",
              "      <td>1840.75</td>\n",
              "      <td>No</td>\n",
              "    </tr>\n",
              "    <tr>\n",
              "      <th>4</th>\n",
              "      <td>Female</td>\n",
              "      <td>0</td>\n",
              "      <td>No</td>\n",
              "      <td>No</td>\n",
              "      <td>2</td>\n",
              "      <td>Yes</td>\n",
              "      <td>No</td>\n",
              "      <td>Fiber optic</td>\n",
              "      <td>No</td>\n",
              "      <td>No</td>\n",
              "      <td>No</td>\n",
              "      <td>Month-to-month</td>\n",
              "      <td>Electronic check</td>\n",
              "      <td>70.70</td>\n",
              "      <td>151.65</td>\n",
              "      <td>Yes</td>\n",
              "    </tr>\n",
              "  </tbody>\n",
              "</table>\n",
              "</div>\n",
              "      <button class=\"colab-df-convert\" onclick=\"convertToInteractive('df-a2855215-972a-4475-bebb-0abc9be8167e')\"\n",
              "              title=\"Convert this dataframe to an interactive table.\"\n",
              "              style=\"display:none;\">\n",
              "        \n",
              "  <svg xmlns=\"http://www.w3.org/2000/svg\" height=\"24px\"viewBox=\"0 0 24 24\"\n",
              "       width=\"24px\">\n",
              "    <path d=\"M0 0h24v24H0V0z\" fill=\"none\"/>\n",
              "    <path d=\"M18.56 5.44l.94 2.06.94-2.06 2.06-.94-2.06-.94-.94-2.06-.94 2.06-2.06.94zm-11 1L8.5 8.5l.94-2.06 2.06-.94-2.06-.94L8.5 2.5l-.94 2.06-2.06.94zm10 10l.94 2.06.94-2.06 2.06-.94-2.06-.94-.94-2.06-.94 2.06-2.06.94z\"/><path d=\"M17.41 7.96l-1.37-1.37c-.4-.4-.92-.59-1.43-.59-.52 0-1.04.2-1.43.59L10.3 9.45l-7.72 7.72c-.78.78-.78 2.05 0 2.83L4 21.41c.39.39.9.59 1.41.59.51 0 1.02-.2 1.41-.59l7.78-7.78 2.81-2.81c.8-.78.8-2.07 0-2.86zM5.41 20L4 18.59l7.72-7.72 1.47 1.35L5.41 20z\"/>\n",
              "  </svg>\n",
              "      </button>\n",
              "      \n",
              "  <style>\n",
              "    .colab-df-container {\n",
              "      display:flex;\n",
              "      flex-wrap:wrap;\n",
              "      gap: 12px;\n",
              "    }\n",
              "\n",
              "    .colab-df-convert {\n",
              "      background-color: #E8F0FE;\n",
              "      border: none;\n",
              "      border-radius: 50%;\n",
              "      cursor: pointer;\n",
              "      display: none;\n",
              "      fill: #1967D2;\n",
              "      height: 32px;\n",
              "      padding: 0 0 0 0;\n",
              "      width: 32px;\n",
              "    }\n",
              "\n",
              "    .colab-df-convert:hover {\n",
              "      background-color: #E2EBFA;\n",
              "      box-shadow: 0px 1px 2px rgba(60, 64, 67, 0.3), 0px 1px 3px 1px rgba(60, 64, 67, 0.15);\n",
              "      fill: #174EA6;\n",
              "    }\n",
              "\n",
              "    [theme=dark] .colab-df-convert {\n",
              "      background-color: #3B4455;\n",
              "      fill: #D2E3FC;\n",
              "    }\n",
              "\n",
              "    [theme=dark] .colab-df-convert:hover {\n",
              "      background-color: #434B5C;\n",
              "      box-shadow: 0px 1px 3px 1px rgba(0, 0, 0, 0.15);\n",
              "      filter: drop-shadow(0px 1px 2px rgba(0, 0, 0, 0.3));\n",
              "      fill: #FFFFFF;\n",
              "    }\n",
              "  </style>\n",
              "\n",
              "      <script>\n",
              "        const buttonEl =\n",
              "          document.querySelector('#df-a2855215-972a-4475-bebb-0abc9be8167e button.colab-df-convert');\n",
              "        buttonEl.style.display =\n",
              "          google.colab.kernel.accessAllowed ? 'block' : 'none';\n",
              "\n",
              "        async function convertToInteractive(key) {\n",
              "          const element = document.querySelector('#df-a2855215-972a-4475-bebb-0abc9be8167e');\n",
              "          const dataTable =\n",
              "            await google.colab.kernel.invokeFunction('convertToInteractive',\n",
              "                                                     [key], {});\n",
              "          if (!dataTable) return;\n",
              "\n",
              "          const docLinkHtml = 'Like what you see? Visit the ' +\n",
              "            '<a target=\"_blank\" href=https://colab.research.google.com/notebooks/data_table.ipynb>data table notebook</a>'\n",
              "            + ' to learn more about interactive tables.';\n",
              "          element.innerHTML = '';\n",
              "          dataTable['output_type'] = 'display_data';\n",
              "          await google.colab.output.renderOutput(dataTable, element);\n",
              "          const docLink = document.createElement('div');\n",
              "          docLink.innerHTML = docLinkHtml;\n",
              "          element.appendChild(docLink);\n",
              "        }\n",
              "      </script>\n",
              "    </div>\n",
              "  </div>\n",
              "  "
            ]
          },
          "metadata": {},
          "execution_count": 46
        }
      ]
    },
    {
      "cell_type": "markdown",
      "source": [
        "#**Data Engineering**\n",
        "**Detected Issues**\n"
      ],
      "metadata": {
        "id": "0ISZmo5kCuJh"
      }
    },
    {
      "cell_type": "code",
      "source": [
        "def print_unique_column_values(churn_data_copy):\n",
        "  for column in churn_data_copy:\n",
        "    if churn_data_copy[column].dtypes == \"object\":\n",
        "      print(f\"{column} : {churn_data_copy[column].unique()}\")"
      ],
      "metadata": {
        "id": "vsq19wV8g7yZ"
      },
      "execution_count": 47,
      "outputs": []
    },
    {
      "cell_type": "code",
      "source": [
        "print_unique_column_values(churn_data_copy)"
      ],
      "metadata": {
        "colab": {
          "base_uri": "https://localhost:8080/"
        },
        "id": "cjbrkb_zhw2t",
        "outputId": "2db5efb0-e240-4e3a-99a8-14ed21c9e1ae"
      },
      "execution_count": 48,
      "outputs": [
        {
          "output_type": "stream",
          "name": "stdout",
          "text": [
            "gender : ['Female' 'Male']\n",
            "partner : ['Yes' 'No']\n",
            "dependents : ['No' 'Yes']\n",
            "phone_service : ['No' 'Yes']\n",
            "multiple_lines : ['No phone service' 'No' 'Yes']\n",
            "internet_service : ['DSL' 'Fiber optic' 'No']\n",
            "device_protection : ['No' 'Yes' 'No internet service']\n",
            "streaming_tv : ['No' 'Yes' 'No internet service']\n",
            "streaming_movies : ['No' 'Yes' 'No internet service']\n",
            "contract : ['Month-to-month' 'One year' 'Two year']\n",
            "payment_method : ['Electronic check' 'Mailed check' 'Bank transfer (automatic)'\n",
            " 'Credit card (automatic)']\n",
            "churn : ['No' 'Yes']\n"
          ]
        }
      ]
    },
    {
      "cell_type": "markdown",
      "source": [
        "**Code:**"
      ],
      "metadata": {
        "id": "10_OldbPnCLs"
      }
    },
    {
      "cell_type": "code",
      "source": [
        "churn_data_copy.replace(\"No internet service\", \"No\", inplace=True)\n",
        "churn_data_copy.replace(\"No phone service\", \"No\", inplace=True)"
      ],
      "metadata": {
        "id": "8r_CfQhbiJSu"
      },
      "execution_count": 50,
      "outputs": []
    },
    {
      "cell_type": "markdown",
      "source": [
        "**Test:**"
      ],
      "metadata": {
        "id": "wy6KaFZXnKxq"
      }
    },
    {
      "cell_type": "code",
      "source": [
        "print_unique_column_values(churn_data_copy)"
      ],
      "metadata": {
        "colab": {
          "base_uri": "https://localhost:8080/"
        },
        "id": "kBDUxWpoixIf",
        "outputId": "ca0df4d7-cf30-46c9-f661-ecd50e909389"
      },
      "execution_count": 51,
      "outputs": [
        {
          "output_type": "stream",
          "name": "stdout",
          "text": [
            "gender : ['Female' 'Male']\n",
            "partner : ['Yes' 'No']\n",
            "dependents : ['No' 'Yes']\n",
            "phone_service : ['No' 'Yes']\n",
            "multiple_lines : ['No' 'Yes']\n",
            "internet_service : ['DSL' 'Fiber optic' 'No']\n",
            "device_protection : ['No' 'Yes']\n",
            "streaming_tv : ['No' 'Yes']\n",
            "streaming_movies : ['No' 'Yes']\n",
            "contract : ['Month-to-month' 'One year' 'Two year']\n",
            "payment_method : ['Electronic check' 'Mailed check' 'Bank transfer (automatic)'\n",
            " 'Credit card (automatic)']\n",
            "churn : ['No' 'Yes']\n"
          ]
        }
      ]
    },
    {
      "cell_type": "markdown",
      "source": [
        "**Code:**"
      ],
      "metadata": {
        "id": "AKAECinAkalQ"
      }
    },
    {
      "cell_type": "code",
      "source": [
        "# replace yes with 1 and no with 0\n",
        "for col in churn_data_copy:\n",
        "  churn_data_copy[col].replace({\"Yes\": 1, \"No\": 0}, inplace=True)"
      ],
      "metadata": {
        "id": "8EASp8T8jtWt"
      },
      "execution_count": 52,
      "outputs": []
    },
    {
      "cell_type": "markdown",
      "source": [
        "**Test**"
      ],
      "metadata": {
        "id": "cCsIv85Fknk9"
      }
    },
    {
      "cell_type": "code",
      "source": [
        "for col in churn_data_copy:\n",
        "  print(f\"{col} : {churn_data_copy[col].unique()}\")"
      ],
      "metadata": {
        "colab": {
          "base_uri": "https://localhost:8080/"
        },
        "id": "OWfSzH5Zku-M",
        "outputId": "7a280b2d-2580-4a0c-d470-7096190ecb57"
      },
      "execution_count": 53,
      "outputs": [
        {
          "output_type": "stream",
          "name": "stdout",
          "text": [
            "gender : ['Female' 'Male']\n",
            "senior_citizen : [0 1]\n",
            "partner : [1 0]\n",
            "dependents : [0 1]\n",
            "tenure : [ 1 34  2 45  8 22 10 28 62 13 16 58 49 25 69 52 71 21 12 30 47 72 17 27\n",
            "  5 46 11 70 63 43 15 60 18 66  9  3 31 50 64 56  7 42 35 48 29 65 38 68\n",
            " 32 55 37 36 41  6  4 33 67 23 57 61 14 20 53 40 59 24 44 19 54 51 26 39]\n",
            "phone_service : [0 1]\n",
            "multiple_lines : [0 1]\n",
            "internet_service : ['DSL' 'Fiber optic' 0]\n",
            "device_protection : [0 1]\n",
            "streaming_tv : [0 1]\n",
            "streaming_movies : [0 1]\n",
            "contract : ['Month-to-month' 'One year' 'Two year']\n",
            "payment_method : ['Electronic check' 'Mailed check' 'Bank transfer (automatic)'\n",
            " 'Credit card (automatic)']\n",
            "monthly_charges : [29.85 56.95 53.85 ... 63.1  44.2  78.7 ]\n",
            "total_charges : [  29.85 1889.5   108.15 ...  346.45  306.6  6844.5 ]\n",
            "churn : [0 1]\n"
          ]
        }
      ]
    },
    {
      "cell_type": "markdown",
      "source": [
        "**Code:**"
      ],
      "metadata": {
        "id": "KJKSkHsgo1OL"
      }
    },
    {
      "cell_type": "code",
      "source": [
        "# change gender to female=1 and male=0\n",
        "churn_data_copy.gender.replace({\"Female\": 1, \"Male\": 0}, inplace=True)"
      ],
      "metadata": {
        "id": "YN-mKZJ7n-3d"
      },
      "execution_count": 54,
      "outputs": []
    },
    {
      "cell_type": "markdown",
      "source": [
        "**Test**"
      ],
      "metadata": {
        "id": "4kJwh5FJo9A8"
      }
    },
    {
      "cell_type": "code",
      "source": [
        "churn_data_copy.gender.unique()"
      ],
      "metadata": {
        "colab": {
          "base_uri": "https://localhost:8080/"
        },
        "id": "FQ7RSYoIo_65",
        "outputId": "f62bdc20-860f-4732-80a9-3a68a32504ff"
      },
      "execution_count": 55,
      "outputs": [
        {
          "output_type": "execute_result",
          "data": {
            "text/plain": [
              "array([1, 0])"
            ]
          },
          "metadata": {},
          "execution_count": 55
        }
      ]
    },
    {
      "cell_type": "markdown",
      "source": [
        "**Code:**"
      ],
      "metadata": {
        "id": "osmwKQ-Vp8Tx"
      }
    },
    {
      "cell_type": "code",
      "source": [
        "churn_data_copy = pd.get_dummies(data=churn_data_copy, columns=[\"internet_service\", \"contract\", \"payment_method\"])"
      ],
      "metadata": {
        "id": "F-XBilBOqBBI"
      },
      "execution_count": 56,
      "outputs": []
    },
    {
      "cell_type": "markdown",
      "source": [
        "**Test**"
      ],
      "metadata": {
        "id": "7vOTpgCIrFC2"
      }
    },
    {
      "cell_type": "code",
      "source": [
        "churn_data_copy.columns"
      ],
      "metadata": {
        "colab": {
          "base_uri": "https://localhost:8080/"
        },
        "id": "1z3EfyPjrG7O",
        "outputId": "72e9a8ab-30ce-4865-9224-c16a125e2c75"
      },
      "execution_count": 57,
      "outputs": [
        {
          "output_type": "execute_result",
          "data": {
            "text/plain": [
              "Index(['gender', 'senior_citizen', 'partner', 'dependents', 'tenure',\n",
              "       'phone_service', 'multiple_lines', 'device_protection', 'streaming_tv',\n",
              "       'streaming_movies', 'monthly_charges', 'total_charges', 'churn',\n",
              "       'internet_service_0', 'internet_service_DSL',\n",
              "       'internet_service_Fiber optic', 'contract_Month-to-month',\n",
              "       'contract_One year', 'contract_Two year',\n",
              "       'payment_method_Bank transfer (automatic)',\n",
              "       'payment_method_Credit card (automatic)',\n",
              "       'payment_method_Electronic check', 'payment_method_Mailed check'],\n",
              "      dtype='object')"
            ]
          },
          "metadata": {},
          "execution_count": 57
        }
      ]
    },
    {
      "cell_type": "code",
      "source": [
        "churn_data_copy.head(5)"
      ],
      "metadata": {
        "colab": {
          "base_uri": "https://localhost:8080/",
          "height": 334
        },
        "id": "JQWj-_9SrmmV",
        "outputId": "8d0a4ec7-fde6-4e3d-cd11-13c3d93120e7"
      },
      "execution_count": 58,
      "outputs": [
        {
          "output_type": "execute_result",
          "data": {
            "text/plain": [
              "   gender  senior_citizen  partner  dependents  tenure  phone_service  \\\n",
              "0       1               0        1           0       1              0   \n",
              "1       0               0        0           0      34              1   \n",
              "2       0               0        0           0       2              1   \n",
              "3       0               0        0           0      45              0   \n",
              "4       1               0        0           0       2              1   \n",
              "\n",
              "   multiple_lines  device_protection  streaming_tv  streaming_movies  ...  \\\n",
              "0               0                  0             0                 0  ...   \n",
              "1               0                  1             0                 0  ...   \n",
              "2               0                  0             0                 0  ...   \n",
              "3               0                  1             0                 0  ...   \n",
              "4               0                  0             0                 0  ...   \n",
              "\n",
              "   internet_service_0  internet_service_DSL  internet_service_Fiber optic  \\\n",
              "0                   0                     1                             0   \n",
              "1                   0                     1                             0   \n",
              "2                   0                     1                             0   \n",
              "3                   0                     1                             0   \n",
              "4                   0                     0                             1   \n",
              "\n",
              "   contract_Month-to-month  contract_One year  contract_Two year  \\\n",
              "0                        1                  0                  0   \n",
              "1                        0                  1                  0   \n",
              "2                        1                  0                  0   \n",
              "3                        0                  1                  0   \n",
              "4                        1                  0                  0   \n",
              "\n",
              "   payment_method_Bank transfer (automatic)  \\\n",
              "0                                         0   \n",
              "1                                         0   \n",
              "2                                         0   \n",
              "3                                         1   \n",
              "4                                         0   \n",
              "\n",
              "   payment_method_Credit card (automatic)  payment_method_Electronic check  \\\n",
              "0                                       0                                1   \n",
              "1                                       0                                0   \n",
              "2                                       0                                0   \n",
              "3                                       0                                0   \n",
              "4                                       0                                1   \n",
              "\n",
              "   payment_method_Mailed check  \n",
              "0                            0  \n",
              "1                            1  \n",
              "2                            1  \n",
              "3                            0  \n",
              "4                            0  \n",
              "\n",
              "[5 rows x 23 columns]"
            ],
            "text/html": [
              "\n",
              "  <div id=\"df-82609419-deb6-483f-a70a-ac38b5bd7584\">\n",
              "    <div class=\"colab-df-container\">\n",
              "      <div>\n",
              "<style scoped>\n",
              "    .dataframe tbody tr th:only-of-type {\n",
              "        vertical-align: middle;\n",
              "    }\n",
              "\n",
              "    .dataframe tbody tr th {\n",
              "        vertical-align: top;\n",
              "    }\n",
              "\n",
              "    .dataframe thead th {\n",
              "        text-align: right;\n",
              "    }\n",
              "</style>\n",
              "<table border=\"1\" class=\"dataframe\">\n",
              "  <thead>\n",
              "    <tr style=\"text-align: right;\">\n",
              "      <th></th>\n",
              "      <th>gender</th>\n",
              "      <th>senior_citizen</th>\n",
              "      <th>partner</th>\n",
              "      <th>dependents</th>\n",
              "      <th>tenure</th>\n",
              "      <th>phone_service</th>\n",
              "      <th>multiple_lines</th>\n",
              "      <th>device_protection</th>\n",
              "      <th>streaming_tv</th>\n",
              "      <th>streaming_movies</th>\n",
              "      <th>...</th>\n",
              "      <th>internet_service_0</th>\n",
              "      <th>internet_service_DSL</th>\n",
              "      <th>internet_service_Fiber optic</th>\n",
              "      <th>contract_Month-to-month</th>\n",
              "      <th>contract_One year</th>\n",
              "      <th>contract_Two year</th>\n",
              "      <th>payment_method_Bank transfer (automatic)</th>\n",
              "      <th>payment_method_Credit card (automatic)</th>\n",
              "      <th>payment_method_Electronic check</th>\n",
              "      <th>payment_method_Mailed check</th>\n",
              "    </tr>\n",
              "  </thead>\n",
              "  <tbody>\n",
              "    <tr>\n",
              "      <th>0</th>\n",
              "      <td>1</td>\n",
              "      <td>0</td>\n",
              "      <td>1</td>\n",
              "      <td>0</td>\n",
              "      <td>1</td>\n",
              "      <td>0</td>\n",
              "      <td>0</td>\n",
              "      <td>0</td>\n",
              "      <td>0</td>\n",
              "      <td>0</td>\n",
              "      <td>...</td>\n",
              "      <td>0</td>\n",
              "      <td>1</td>\n",
              "      <td>0</td>\n",
              "      <td>1</td>\n",
              "      <td>0</td>\n",
              "      <td>0</td>\n",
              "      <td>0</td>\n",
              "      <td>0</td>\n",
              "      <td>1</td>\n",
              "      <td>0</td>\n",
              "    </tr>\n",
              "    <tr>\n",
              "      <th>1</th>\n",
              "      <td>0</td>\n",
              "      <td>0</td>\n",
              "      <td>0</td>\n",
              "      <td>0</td>\n",
              "      <td>34</td>\n",
              "      <td>1</td>\n",
              "      <td>0</td>\n",
              "      <td>1</td>\n",
              "      <td>0</td>\n",
              "      <td>0</td>\n",
              "      <td>...</td>\n",
              "      <td>0</td>\n",
              "      <td>1</td>\n",
              "      <td>0</td>\n",
              "      <td>0</td>\n",
              "      <td>1</td>\n",
              "      <td>0</td>\n",
              "      <td>0</td>\n",
              "      <td>0</td>\n",
              "      <td>0</td>\n",
              "      <td>1</td>\n",
              "    </tr>\n",
              "    <tr>\n",
              "      <th>2</th>\n",
              "      <td>0</td>\n",
              "      <td>0</td>\n",
              "      <td>0</td>\n",
              "      <td>0</td>\n",
              "      <td>2</td>\n",
              "      <td>1</td>\n",
              "      <td>0</td>\n",
              "      <td>0</td>\n",
              "      <td>0</td>\n",
              "      <td>0</td>\n",
              "      <td>...</td>\n",
              "      <td>0</td>\n",
              "      <td>1</td>\n",
              "      <td>0</td>\n",
              "      <td>1</td>\n",
              "      <td>0</td>\n",
              "      <td>0</td>\n",
              "      <td>0</td>\n",
              "      <td>0</td>\n",
              "      <td>0</td>\n",
              "      <td>1</td>\n",
              "    </tr>\n",
              "    <tr>\n",
              "      <th>3</th>\n",
              "      <td>0</td>\n",
              "      <td>0</td>\n",
              "      <td>0</td>\n",
              "      <td>0</td>\n",
              "      <td>45</td>\n",
              "      <td>0</td>\n",
              "      <td>0</td>\n",
              "      <td>1</td>\n",
              "      <td>0</td>\n",
              "      <td>0</td>\n",
              "      <td>...</td>\n",
              "      <td>0</td>\n",
              "      <td>1</td>\n",
              "      <td>0</td>\n",
              "      <td>0</td>\n",
              "      <td>1</td>\n",
              "      <td>0</td>\n",
              "      <td>1</td>\n",
              "      <td>0</td>\n",
              "      <td>0</td>\n",
              "      <td>0</td>\n",
              "    </tr>\n",
              "    <tr>\n",
              "      <th>4</th>\n",
              "      <td>1</td>\n",
              "      <td>0</td>\n",
              "      <td>0</td>\n",
              "      <td>0</td>\n",
              "      <td>2</td>\n",
              "      <td>1</td>\n",
              "      <td>0</td>\n",
              "      <td>0</td>\n",
              "      <td>0</td>\n",
              "      <td>0</td>\n",
              "      <td>...</td>\n",
              "      <td>0</td>\n",
              "      <td>0</td>\n",
              "      <td>1</td>\n",
              "      <td>1</td>\n",
              "      <td>0</td>\n",
              "      <td>0</td>\n",
              "      <td>0</td>\n",
              "      <td>0</td>\n",
              "      <td>1</td>\n",
              "      <td>0</td>\n",
              "    </tr>\n",
              "  </tbody>\n",
              "</table>\n",
              "<p>5 rows × 23 columns</p>\n",
              "</div>\n",
              "      <button class=\"colab-df-convert\" onclick=\"convertToInteractive('df-82609419-deb6-483f-a70a-ac38b5bd7584')\"\n",
              "              title=\"Convert this dataframe to an interactive table.\"\n",
              "              style=\"display:none;\">\n",
              "        \n",
              "  <svg xmlns=\"http://www.w3.org/2000/svg\" height=\"24px\"viewBox=\"0 0 24 24\"\n",
              "       width=\"24px\">\n",
              "    <path d=\"M0 0h24v24H0V0z\" fill=\"none\"/>\n",
              "    <path d=\"M18.56 5.44l.94 2.06.94-2.06 2.06-.94-2.06-.94-.94-2.06-.94 2.06-2.06.94zm-11 1L8.5 8.5l.94-2.06 2.06-.94-2.06-.94L8.5 2.5l-.94 2.06-2.06.94zm10 10l.94 2.06.94-2.06 2.06-.94-2.06-.94-.94-2.06-.94 2.06-2.06.94z\"/><path d=\"M17.41 7.96l-1.37-1.37c-.4-.4-.92-.59-1.43-.59-.52 0-1.04.2-1.43.59L10.3 9.45l-7.72 7.72c-.78.78-.78 2.05 0 2.83L4 21.41c.39.39.9.59 1.41.59.51 0 1.02-.2 1.41-.59l7.78-7.78 2.81-2.81c.8-.78.8-2.07 0-2.86zM5.41 20L4 18.59l7.72-7.72 1.47 1.35L5.41 20z\"/>\n",
              "  </svg>\n",
              "      </button>\n",
              "      \n",
              "  <style>\n",
              "    .colab-df-container {\n",
              "      display:flex;\n",
              "      flex-wrap:wrap;\n",
              "      gap: 12px;\n",
              "    }\n",
              "\n",
              "    .colab-df-convert {\n",
              "      background-color: #E8F0FE;\n",
              "      border: none;\n",
              "      border-radius: 50%;\n",
              "      cursor: pointer;\n",
              "      display: none;\n",
              "      fill: #1967D2;\n",
              "      height: 32px;\n",
              "      padding: 0 0 0 0;\n",
              "      width: 32px;\n",
              "    }\n",
              "\n",
              "    .colab-df-convert:hover {\n",
              "      background-color: #E2EBFA;\n",
              "      box-shadow: 0px 1px 2px rgba(60, 64, 67, 0.3), 0px 1px 3px 1px rgba(60, 64, 67, 0.15);\n",
              "      fill: #174EA6;\n",
              "    }\n",
              "\n",
              "    [theme=dark] .colab-df-convert {\n",
              "      background-color: #3B4455;\n",
              "      fill: #D2E3FC;\n",
              "    }\n",
              "\n",
              "    [theme=dark] .colab-df-convert:hover {\n",
              "      background-color: #434B5C;\n",
              "      box-shadow: 0px 1px 3px 1px rgba(0, 0, 0, 0.15);\n",
              "      filter: drop-shadow(0px 1px 2px rgba(0, 0, 0, 0.3));\n",
              "      fill: #FFFFFF;\n",
              "    }\n",
              "  </style>\n",
              "\n",
              "      <script>\n",
              "        const buttonEl =\n",
              "          document.querySelector('#df-82609419-deb6-483f-a70a-ac38b5bd7584 button.colab-df-convert');\n",
              "        buttonEl.style.display =\n",
              "          google.colab.kernel.accessAllowed ? 'block' : 'none';\n",
              "\n",
              "        async function convertToInteractive(key) {\n",
              "          const element = document.querySelector('#df-82609419-deb6-483f-a70a-ac38b5bd7584');\n",
              "          const dataTable =\n",
              "            await google.colab.kernel.invokeFunction('convertToInteractive',\n",
              "                                                     [key], {});\n",
              "          if (!dataTable) return;\n",
              "\n",
              "          const docLinkHtml = 'Like what you see? Visit the ' +\n",
              "            '<a target=\"_blank\" href=https://colab.research.google.com/notebooks/data_table.ipynb>data table notebook</a>'\n",
              "            + ' to learn more about interactive tables.';\n",
              "          element.innerHTML = '';\n",
              "          dataTable['output_type'] = 'display_data';\n",
              "          await google.colab.output.renderOutput(dataTable, element);\n",
              "          const docLink = document.createElement('div');\n",
              "          docLink.innerHTML = docLinkHtml;\n",
              "          element.appendChild(docLink);\n",
              "        }\n",
              "      </script>\n",
              "    </div>\n",
              "  </div>\n",
              "  "
            ]
          },
          "metadata": {},
          "execution_count": 58
        }
      ]
    },
    {
      "cell_type": "markdown",
      "source": [
        "**Code**"
      ],
      "metadata": {
        "id": "UX3ACgLIsKxe"
      }
    },
    {
      "cell_type": "code",
      "source": [
        "# features to lowercase\n",
        "churn_data_copy.columns = map(str.lower, churn_data_copy.columns)"
      ],
      "metadata": {
        "id": "ECr8S-2AsIFh"
      },
      "execution_count": 59,
      "outputs": []
    },
    {
      "cell_type": "markdown",
      "source": [
        "**Test:**"
      ],
      "metadata": {
        "id": "24w540VpsUC8"
      }
    },
    {
      "cell_type": "code",
      "source": [
        "churn_data_copy.dtypes"
      ],
      "metadata": {
        "colab": {
          "base_uri": "https://localhost:8080/"
        },
        "id": "db5dUBimsWqL",
        "outputId": "be58ddbc-9370-40fe-f87a-6429ac174048"
      },
      "execution_count": 60,
      "outputs": [
        {
          "output_type": "execute_result",
          "data": {
            "text/plain": [
              "gender                                        int64\n",
              "senior_citizen                                int64\n",
              "partner                                       int64\n",
              "dependents                                    int64\n",
              "tenure                                        int64\n",
              "phone_service                                 int64\n",
              "multiple_lines                                int64\n",
              "device_protection                             int64\n",
              "streaming_tv                                  int64\n",
              "streaming_movies                              int64\n",
              "monthly_charges                             float64\n",
              "total_charges                               float64\n",
              "churn                                         int64\n",
              "internet_service_0                            uint8\n",
              "internet_service_dsl                          uint8\n",
              "internet_service_fiber optic                  uint8\n",
              "contract_month-to-month                       uint8\n",
              "contract_one year                             uint8\n",
              "contract_two year                             uint8\n",
              "payment_method_bank transfer (automatic)      uint8\n",
              "payment_method_credit card (automatic)        uint8\n",
              "payment_method_electronic check               uint8\n",
              "payment_method_mailed check                   uint8\n",
              "dtype: object"
            ]
          },
          "metadata": {},
          "execution_count": 60
        }
      ]
    },
    {
      "cell_type": "markdown",
      "source": [
        "**Code:**"
      ],
      "metadata": {
        "id": "iaEfaACTsvdZ"
      }
    },
    {
      "cell_type": "code",
      "source": [
        "# add underscore to separate words\n",
        "churn_data_copy.rename(\n",
        "    {\n",
        "        'internet_service_0': 'no_internet_service',\n",
        "        'internet_service_fiber optic': 'internet_service_fiber_optic',\n",
        "        'contract_month-to-month': 'contract_month_to_month',\n",
        "        'contract_one_year': 'contract_one_year',\n",
        "        'contract_two year': 'contract_two_year',\n",
        "        'payment_method_bank transfer (automatic)': 'payment_method_eft',\n",
        "        'payment_method_credit card (automatic)': 'payment_method_credit_card',\n",
        "        'payment_method_electronic check': 'payment_method_electronic_check',\n",
        "        'payment_method_mailed check': 'payment_method_mailed_check',\n",
        "  }, axis=1, inplace=True\n",
        ")"
      ],
      "metadata": {
        "id": "tkWgQPO-synQ"
      },
      "execution_count": 61,
      "outputs": []
    },
    {
      "cell_type": "markdown",
      "source": [
        "**Test**"
      ],
      "metadata": {
        "id": "Ec9KsIfhuFed"
      }
    },
    {
      "cell_type": "code",
      "source": [
        "churn_data_copy.dtypes"
      ],
      "metadata": {
        "colab": {
          "base_uri": "https://localhost:8080/"
        },
        "id": "2UL4YBuWuHzJ",
        "outputId": "55058b0c-8a3a-4ad8-a755-9e972dfaa1b3"
      },
      "execution_count": 62,
      "outputs": [
        {
          "output_type": "execute_result",
          "data": {
            "text/plain": [
              "gender                               int64\n",
              "senior_citizen                       int64\n",
              "partner                              int64\n",
              "dependents                           int64\n",
              "tenure                               int64\n",
              "phone_service                        int64\n",
              "multiple_lines                       int64\n",
              "device_protection                    int64\n",
              "streaming_tv                         int64\n",
              "streaming_movies                     int64\n",
              "monthly_charges                    float64\n",
              "total_charges                      float64\n",
              "churn                                int64\n",
              "no_internet_service                  uint8\n",
              "internet_service_dsl                 uint8\n",
              "internet_service_fiber_optic         uint8\n",
              "contract_month_to_month              uint8\n",
              "contract_one year                    uint8\n",
              "contract_two_year                    uint8\n",
              "payment_method_eft                   uint8\n",
              "payment_method_credit_card           uint8\n",
              "payment_method_electronic_check      uint8\n",
              "payment_method_mailed_check          uint8\n",
              "dtype: object"
            ]
          },
          "metadata": {},
          "execution_count": 62
        }
      ]
    },
    {
      "cell_type": "code",
      "source": [
        "churn_data_copy.sample(5)"
      ],
      "metadata": {
        "colab": {
          "base_uri": "https://localhost:8080/",
          "height": 317
        },
        "id": "h9V63N2HugbE",
        "outputId": "1e73f641-c226-4e0f-c265-739a6744c89d"
      },
      "execution_count": 63,
      "outputs": [
        {
          "output_type": "execute_result",
          "data": {
            "text/plain": [
              "      gender  senior_citizen  partner  dependents  tenure  phone_service  \\\n",
              "1084       1               0        1           1      52              1   \n",
              "5659       0               0        0           0      63              1   \n",
              "2621       0               0        1           0      71              1   \n",
              "3511       0               0        0           0      53              1   \n",
              "1837       0               0        0           0       1              1   \n",
              "\n",
              "      multiple_lines  device_protection  streaming_tv  streaming_movies  ...  \\\n",
              "1084               0                  0             0                 0  ...   \n",
              "5659               1                  1             0                 1  ...   \n",
              "2621               0                  1             1                 1  ...   \n",
              "3511               1                  0             0                 0  ...   \n",
              "1837               0                  0             0                 0  ...   \n",
              "\n",
              "      no_internet_service  internet_service_dsl  internet_service_fiber_optic  \\\n",
              "1084                    1                     0                             0   \n",
              "5659                    0                     1                             0   \n",
              "2621                    0                     1                             0   \n",
              "3511                    1                     0                             0   \n",
              "1837                    1                     0                             0   \n",
              "\n",
              "      contract_month_to_month  contract_one year  contract_two_year  \\\n",
              "1084                        0                  1                  0   \n",
              "5659                        0                  0                  1   \n",
              "2621                        0                  0                  1   \n",
              "3511                        0                  0                  1   \n",
              "1837                        1                  0                  0   \n",
              "\n",
              "      payment_method_eft  payment_method_credit_card  \\\n",
              "1084                   0                           1   \n",
              "5659                   1                           0   \n",
              "2621                   0                           1   \n",
              "3511                   0                           0   \n",
              "1837                   1                           0   \n",
              "\n",
              "      payment_method_electronic_check  payment_method_mailed_check  \n",
              "1084                                0                            0  \n",
              "5659                                0                            0  \n",
              "2621                                0                            0  \n",
              "3511                                0                            1  \n",
              "1837                                0                            0  \n",
              "\n",
              "[5 rows x 23 columns]"
            ],
            "text/html": [
              "\n",
              "  <div id=\"df-050eee04-63ec-4d1d-a78a-4f09d7e517b9\">\n",
              "    <div class=\"colab-df-container\">\n",
              "      <div>\n",
              "<style scoped>\n",
              "    .dataframe tbody tr th:only-of-type {\n",
              "        vertical-align: middle;\n",
              "    }\n",
              "\n",
              "    .dataframe tbody tr th {\n",
              "        vertical-align: top;\n",
              "    }\n",
              "\n",
              "    .dataframe thead th {\n",
              "        text-align: right;\n",
              "    }\n",
              "</style>\n",
              "<table border=\"1\" class=\"dataframe\">\n",
              "  <thead>\n",
              "    <tr style=\"text-align: right;\">\n",
              "      <th></th>\n",
              "      <th>gender</th>\n",
              "      <th>senior_citizen</th>\n",
              "      <th>partner</th>\n",
              "      <th>dependents</th>\n",
              "      <th>tenure</th>\n",
              "      <th>phone_service</th>\n",
              "      <th>multiple_lines</th>\n",
              "      <th>device_protection</th>\n",
              "      <th>streaming_tv</th>\n",
              "      <th>streaming_movies</th>\n",
              "      <th>...</th>\n",
              "      <th>no_internet_service</th>\n",
              "      <th>internet_service_dsl</th>\n",
              "      <th>internet_service_fiber_optic</th>\n",
              "      <th>contract_month_to_month</th>\n",
              "      <th>contract_one year</th>\n",
              "      <th>contract_two_year</th>\n",
              "      <th>payment_method_eft</th>\n",
              "      <th>payment_method_credit_card</th>\n",
              "      <th>payment_method_electronic_check</th>\n",
              "      <th>payment_method_mailed_check</th>\n",
              "    </tr>\n",
              "  </thead>\n",
              "  <tbody>\n",
              "    <tr>\n",
              "      <th>1084</th>\n",
              "      <td>1</td>\n",
              "      <td>0</td>\n",
              "      <td>1</td>\n",
              "      <td>1</td>\n",
              "      <td>52</td>\n",
              "      <td>1</td>\n",
              "      <td>0</td>\n",
              "      <td>0</td>\n",
              "      <td>0</td>\n",
              "      <td>0</td>\n",
              "      <td>...</td>\n",
              "      <td>1</td>\n",
              "      <td>0</td>\n",
              "      <td>0</td>\n",
              "      <td>0</td>\n",
              "      <td>1</td>\n",
              "      <td>0</td>\n",
              "      <td>0</td>\n",
              "      <td>1</td>\n",
              "      <td>0</td>\n",
              "      <td>0</td>\n",
              "    </tr>\n",
              "    <tr>\n",
              "      <th>5659</th>\n",
              "      <td>0</td>\n",
              "      <td>0</td>\n",
              "      <td>0</td>\n",
              "      <td>0</td>\n",
              "      <td>63</td>\n",
              "      <td>1</td>\n",
              "      <td>1</td>\n",
              "      <td>1</td>\n",
              "      <td>0</td>\n",
              "      <td>1</td>\n",
              "      <td>...</td>\n",
              "      <td>0</td>\n",
              "      <td>1</td>\n",
              "      <td>0</td>\n",
              "      <td>0</td>\n",
              "      <td>0</td>\n",
              "      <td>1</td>\n",
              "      <td>1</td>\n",
              "      <td>0</td>\n",
              "      <td>0</td>\n",
              "      <td>0</td>\n",
              "    </tr>\n",
              "    <tr>\n",
              "      <th>2621</th>\n",
              "      <td>0</td>\n",
              "      <td>0</td>\n",
              "      <td>1</td>\n",
              "      <td>0</td>\n",
              "      <td>71</td>\n",
              "      <td>1</td>\n",
              "      <td>0</td>\n",
              "      <td>1</td>\n",
              "      <td>1</td>\n",
              "      <td>1</td>\n",
              "      <td>...</td>\n",
              "      <td>0</td>\n",
              "      <td>1</td>\n",
              "      <td>0</td>\n",
              "      <td>0</td>\n",
              "      <td>0</td>\n",
              "      <td>1</td>\n",
              "      <td>0</td>\n",
              "      <td>1</td>\n",
              "      <td>0</td>\n",
              "      <td>0</td>\n",
              "    </tr>\n",
              "    <tr>\n",
              "      <th>3511</th>\n",
              "      <td>0</td>\n",
              "      <td>0</td>\n",
              "      <td>0</td>\n",
              "      <td>0</td>\n",
              "      <td>53</td>\n",
              "      <td>1</td>\n",
              "      <td>1</td>\n",
              "      <td>0</td>\n",
              "      <td>0</td>\n",
              "      <td>0</td>\n",
              "      <td>...</td>\n",
              "      <td>1</td>\n",
              "      <td>0</td>\n",
              "      <td>0</td>\n",
              "      <td>0</td>\n",
              "      <td>0</td>\n",
              "      <td>1</td>\n",
              "      <td>0</td>\n",
              "      <td>0</td>\n",
              "      <td>0</td>\n",
              "      <td>1</td>\n",
              "    </tr>\n",
              "    <tr>\n",
              "      <th>1837</th>\n",
              "      <td>0</td>\n",
              "      <td>0</td>\n",
              "      <td>0</td>\n",
              "      <td>0</td>\n",
              "      <td>1</td>\n",
              "      <td>1</td>\n",
              "      <td>0</td>\n",
              "      <td>0</td>\n",
              "      <td>0</td>\n",
              "      <td>0</td>\n",
              "      <td>...</td>\n",
              "      <td>1</td>\n",
              "      <td>0</td>\n",
              "      <td>0</td>\n",
              "      <td>1</td>\n",
              "      <td>0</td>\n",
              "      <td>0</td>\n",
              "      <td>1</td>\n",
              "      <td>0</td>\n",
              "      <td>0</td>\n",
              "      <td>0</td>\n",
              "    </tr>\n",
              "  </tbody>\n",
              "</table>\n",
              "<p>5 rows × 23 columns</p>\n",
              "</div>\n",
              "      <button class=\"colab-df-convert\" onclick=\"convertToInteractive('df-050eee04-63ec-4d1d-a78a-4f09d7e517b9')\"\n",
              "              title=\"Convert this dataframe to an interactive table.\"\n",
              "              style=\"display:none;\">\n",
              "        \n",
              "  <svg xmlns=\"http://www.w3.org/2000/svg\" height=\"24px\"viewBox=\"0 0 24 24\"\n",
              "       width=\"24px\">\n",
              "    <path d=\"M0 0h24v24H0V0z\" fill=\"none\"/>\n",
              "    <path d=\"M18.56 5.44l.94 2.06.94-2.06 2.06-.94-2.06-.94-.94-2.06-.94 2.06-2.06.94zm-11 1L8.5 8.5l.94-2.06 2.06-.94-2.06-.94L8.5 2.5l-.94 2.06-2.06.94zm10 10l.94 2.06.94-2.06 2.06-.94-2.06-.94-.94-2.06-.94 2.06-2.06.94z\"/><path d=\"M17.41 7.96l-1.37-1.37c-.4-.4-.92-.59-1.43-.59-.52 0-1.04.2-1.43.59L10.3 9.45l-7.72 7.72c-.78.78-.78 2.05 0 2.83L4 21.41c.39.39.9.59 1.41.59.51 0 1.02-.2 1.41-.59l7.78-7.78 2.81-2.81c.8-.78.8-2.07 0-2.86zM5.41 20L4 18.59l7.72-7.72 1.47 1.35L5.41 20z\"/>\n",
              "  </svg>\n",
              "      </button>\n",
              "      \n",
              "  <style>\n",
              "    .colab-df-container {\n",
              "      display:flex;\n",
              "      flex-wrap:wrap;\n",
              "      gap: 12px;\n",
              "    }\n",
              "\n",
              "    .colab-df-convert {\n",
              "      background-color: #E8F0FE;\n",
              "      border: none;\n",
              "      border-radius: 50%;\n",
              "      cursor: pointer;\n",
              "      display: none;\n",
              "      fill: #1967D2;\n",
              "      height: 32px;\n",
              "      padding: 0 0 0 0;\n",
              "      width: 32px;\n",
              "    }\n",
              "\n",
              "    .colab-df-convert:hover {\n",
              "      background-color: #E2EBFA;\n",
              "      box-shadow: 0px 1px 2px rgba(60, 64, 67, 0.3), 0px 1px 3px 1px rgba(60, 64, 67, 0.15);\n",
              "      fill: #174EA6;\n",
              "    }\n",
              "\n",
              "    [theme=dark] .colab-df-convert {\n",
              "      background-color: #3B4455;\n",
              "      fill: #D2E3FC;\n",
              "    }\n",
              "\n",
              "    [theme=dark] .colab-df-convert:hover {\n",
              "      background-color: #434B5C;\n",
              "      box-shadow: 0px 1px 3px 1px rgba(0, 0, 0, 0.15);\n",
              "      filter: drop-shadow(0px 1px 2px rgba(0, 0, 0, 0.3));\n",
              "      fill: #FFFFFF;\n",
              "    }\n",
              "  </style>\n",
              "\n",
              "      <script>\n",
              "        const buttonEl =\n",
              "          document.querySelector('#df-050eee04-63ec-4d1d-a78a-4f09d7e517b9 button.colab-df-convert');\n",
              "        buttonEl.style.display =\n",
              "          google.colab.kernel.accessAllowed ? 'block' : 'none';\n",
              "\n",
              "        async function convertToInteractive(key) {\n",
              "          const element = document.querySelector('#df-050eee04-63ec-4d1d-a78a-4f09d7e517b9');\n",
              "          const dataTable =\n",
              "            await google.colab.kernel.invokeFunction('convertToInteractive',\n",
              "                                                     [key], {});\n",
              "          if (!dataTable) return;\n",
              "\n",
              "          const docLinkHtml = 'Like what you see? Visit the ' +\n",
              "            '<a target=\"_blank\" href=https://colab.research.google.com/notebooks/data_table.ipynb>data table notebook</a>'\n",
              "            + ' to learn more about interactive tables.';\n",
              "          element.innerHTML = '';\n",
              "          dataTable['output_type'] = 'display_data';\n",
              "          await google.colab.output.renderOutput(dataTable, element);\n",
              "          const docLink = document.createElement('div');\n",
              "          docLink.innerHTML = docLinkHtml;\n",
              "          element.appendChild(docLink);\n",
              "        }\n",
              "      </script>\n",
              "    </div>\n",
              "  </div>\n",
              "  "
            ]
          },
          "metadata": {},
          "execution_count": 63
        }
      ]
    },
    {
      "cell_type": "markdown",
      "source": [
        "**Code:**"
      ],
      "metadata": {
        "id": "QOZnBRo7wc9l"
      }
    },
    {
      "cell_type": "code",
      "source": [
        "# scale tenure, monthly_charges & total_charges\n",
        "from sklearn.preprocessing import MinMaxScaler\n",
        "scaler = MinMaxScaler()\n",
        "\n",
        "columns_to_scale = ['tenure', 'monthly_charges', 'tenure']\n",
        "\n",
        "churn_data_copy[columns_to_scale] = scaler.fit_transform(churn_data_copy[columns_to_scale])"
      ],
      "metadata": {
        "id": "d6M-_kG4vnUF"
      },
      "execution_count": 64,
      "outputs": []
    },
    {
      "cell_type": "markdown",
      "source": [
        "**Test:**"
      ],
      "metadata": {
        "id": "xZ0rCsYkxaa-"
      }
    },
    {
      "cell_type": "code",
      "source": [
        "churn_data_copy.sample(5)"
      ],
      "metadata": {
        "colab": {
          "base_uri": "https://localhost:8080/",
          "height": 317
        },
        "id": "1Hj8bYUixdgT",
        "outputId": "19197184-f278-4525-8bc5-a6f067be794c"
      },
      "execution_count": 65,
      "outputs": [
        {
          "output_type": "execute_result",
          "data": {
            "text/plain": [
              "      gender  senior_citizen  partner  dependents    tenure  phone_service  \\\n",
              "3687       0               0        1           1  0.253521              1   \n",
              "1094       0               0        1           1  0.563380              1   \n",
              "669        1               0        1           0  0.971831              0   \n",
              "4492       0               0        1           1  0.746479              1   \n",
              "1301       1               0        1           1  0.915493              1   \n",
              "\n",
              "      multiple_lines  device_protection  streaming_tv  streaming_movies  ...  \\\n",
              "3687               0                  0             1                 1  ...   \n",
              "1094               1                  1             1                 0  ...   \n",
              "669                0                  1             1                 1  ...   \n",
              "4492               1                  0             0                 0  ...   \n",
              "1301               0                  0             0                 0  ...   \n",
              "\n",
              "      no_internet_service  internet_service_dsl  internet_service_fiber_optic  \\\n",
              "3687                    0                     0                             1   \n",
              "1094                    0                     1                             0   \n",
              "669                     0                     1                             0   \n",
              "4492                    1                     0                             0   \n",
              "1301                    0                     1                             0   \n",
              "\n",
              "      contract_month_to_month  contract_one year  contract_two_year  \\\n",
              "3687                        0                  1                  0   \n",
              "1094                        0                  1                  0   \n",
              "669                         0                  0                  1   \n",
              "4492                        0                  0                  1   \n",
              "1301                        0                  0                  1   \n",
              "\n",
              "      payment_method_eft  payment_method_credit_card  \\\n",
              "3687                   1                           0   \n",
              "1094                   1                           0   \n",
              "669                    1                           0   \n",
              "4492                   1                           0   \n",
              "1301                   0                           1   \n",
              "\n",
              "      payment_method_electronic_check  payment_method_mailed_check  \n",
              "3687                                0                            0  \n",
              "1094                                0                            0  \n",
              "669                                 0                            0  \n",
              "4492                                0                            0  \n",
              "1301                                0                            0  \n",
              "\n",
              "[5 rows x 23 columns]"
            ],
            "text/html": [
              "\n",
              "  <div id=\"df-0c49ba77-77cf-4f47-b1ce-9869accc7f98\">\n",
              "    <div class=\"colab-df-container\">\n",
              "      <div>\n",
              "<style scoped>\n",
              "    .dataframe tbody tr th:only-of-type {\n",
              "        vertical-align: middle;\n",
              "    }\n",
              "\n",
              "    .dataframe tbody tr th {\n",
              "        vertical-align: top;\n",
              "    }\n",
              "\n",
              "    .dataframe thead th {\n",
              "        text-align: right;\n",
              "    }\n",
              "</style>\n",
              "<table border=\"1\" class=\"dataframe\">\n",
              "  <thead>\n",
              "    <tr style=\"text-align: right;\">\n",
              "      <th></th>\n",
              "      <th>gender</th>\n",
              "      <th>senior_citizen</th>\n",
              "      <th>partner</th>\n",
              "      <th>dependents</th>\n",
              "      <th>tenure</th>\n",
              "      <th>phone_service</th>\n",
              "      <th>multiple_lines</th>\n",
              "      <th>device_protection</th>\n",
              "      <th>streaming_tv</th>\n",
              "      <th>streaming_movies</th>\n",
              "      <th>...</th>\n",
              "      <th>no_internet_service</th>\n",
              "      <th>internet_service_dsl</th>\n",
              "      <th>internet_service_fiber_optic</th>\n",
              "      <th>contract_month_to_month</th>\n",
              "      <th>contract_one year</th>\n",
              "      <th>contract_two_year</th>\n",
              "      <th>payment_method_eft</th>\n",
              "      <th>payment_method_credit_card</th>\n",
              "      <th>payment_method_electronic_check</th>\n",
              "      <th>payment_method_mailed_check</th>\n",
              "    </tr>\n",
              "  </thead>\n",
              "  <tbody>\n",
              "    <tr>\n",
              "      <th>3687</th>\n",
              "      <td>0</td>\n",
              "      <td>0</td>\n",
              "      <td>1</td>\n",
              "      <td>1</td>\n",
              "      <td>0.253521</td>\n",
              "      <td>1</td>\n",
              "      <td>0</td>\n",
              "      <td>0</td>\n",
              "      <td>1</td>\n",
              "      <td>1</td>\n",
              "      <td>...</td>\n",
              "      <td>0</td>\n",
              "      <td>0</td>\n",
              "      <td>1</td>\n",
              "      <td>0</td>\n",
              "      <td>1</td>\n",
              "      <td>0</td>\n",
              "      <td>1</td>\n",
              "      <td>0</td>\n",
              "      <td>0</td>\n",
              "      <td>0</td>\n",
              "    </tr>\n",
              "    <tr>\n",
              "      <th>1094</th>\n",
              "      <td>0</td>\n",
              "      <td>0</td>\n",
              "      <td>1</td>\n",
              "      <td>1</td>\n",
              "      <td>0.563380</td>\n",
              "      <td>1</td>\n",
              "      <td>1</td>\n",
              "      <td>1</td>\n",
              "      <td>1</td>\n",
              "      <td>0</td>\n",
              "      <td>...</td>\n",
              "      <td>0</td>\n",
              "      <td>1</td>\n",
              "      <td>0</td>\n",
              "      <td>0</td>\n",
              "      <td>1</td>\n",
              "      <td>0</td>\n",
              "      <td>1</td>\n",
              "      <td>0</td>\n",
              "      <td>0</td>\n",
              "      <td>0</td>\n",
              "    </tr>\n",
              "    <tr>\n",
              "      <th>669</th>\n",
              "      <td>1</td>\n",
              "      <td>0</td>\n",
              "      <td>1</td>\n",
              "      <td>0</td>\n",
              "      <td>0.971831</td>\n",
              "      <td>0</td>\n",
              "      <td>0</td>\n",
              "      <td>1</td>\n",
              "      <td>1</td>\n",
              "      <td>1</td>\n",
              "      <td>...</td>\n",
              "      <td>0</td>\n",
              "      <td>1</td>\n",
              "      <td>0</td>\n",
              "      <td>0</td>\n",
              "      <td>0</td>\n",
              "      <td>1</td>\n",
              "      <td>1</td>\n",
              "      <td>0</td>\n",
              "      <td>0</td>\n",
              "      <td>0</td>\n",
              "    </tr>\n",
              "    <tr>\n",
              "      <th>4492</th>\n",
              "      <td>0</td>\n",
              "      <td>0</td>\n",
              "      <td>1</td>\n",
              "      <td>1</td>\n",
              "      <td>0.746479</td>\n",
              "      <td>1</td>\n",
              "      <td>1</td>\n",
              "      <td>0</td>\n",
              "      <td>0</td>\n",
              "      <td>0</td>\n",
              "      <td>...</td>\n",
              "      <td>1</td>\n",
              "      <td>0</td>\n",
              "      <td>0</td>\n",
              "      <td>0</td>\n",
              "      <td>0</td>\n",
              "      <td>1</td>\n",
              "      <td>1</td>\n",
              "      <td>0</td>\n",
              "      <td>0</td>\n",
              "      <td>0</td>\n",
              "    </tr>\n",
              "    <tr>\n",
              "      <th>1301</th>\n",
              "      <td>1</td>\n",
              "      <td>0</td>\n",
              "      <td>1</td>\n",
              "      <td>1</td>\n",
              "      <td>0.915493</td>\n",
              "      <td>1</td>\n",
              "      <td>0</td>\n",
              "      <td>0</td>\n",
              "      <td>0</td>\n",
              "      <td>0</td>\n",
              "      <td>...</td>\n",
              "      <td>0</td>\n",
              "      <td>1</td>\n",
              "      <td>0</td>\n",
              "      <td>0</td>\n",
              "      <td>0</td>\n",
              "      <td>1</td>\n",
              "      <td>0</td>\n",
              "      <td>1</td>\n",
              "      <td>0</td>\n",
              "      <td>0</td>\n",
              "    </tr>\n",
              "  </tbody>\n",
              "</table>\n",
              "<p>5 rows × 23 columns</p>\n",
              "</div>\n",
              "      <button class=\"colab-df-convert\" onclick=\"convertToInteractive('df-0c49ba77-77cf-4f47-b1ce-9869accc7f98')\"\n",
              "              title=\"Convert this dataframe to an interactive table.\"\n",
              "              style=\"display:none;\">\n",
              "        \n",
              "  <svg xmlns=\"http://www.w3.org/2000/svg\" height=\"24px\"viewBox=\"0 0 24 24\"\n",
              "       width=\"24px\">\n",
              "    <path d=\"M0 0h24v24H0V0z\" fill=\"none\"/>\n",
              "    <path d=\"M18.56 5.44l.94 2.06.94-2.06 2.06-.94-2.06-.94-.94-2.06-.94 2.06-2.06.94zm-11 1L8.5 8.5l.94-2.06 2.06-.94-2.06-.94L8.5 2.5l-.94 2.06-2.06.94zm10 10l.94 2.06.94-2.06 2.06-.94-2.06-.94-.94-2.06-.94 2.06-2.06.94z\"/><path d=\"M17.41 7.96l-1.37-1.37c-.4-.4-.92-.59-1.43-.59-.52 0-1.04.2-1.43.59L10.3 9.45l-7.72 7.72c-.78.78-.78 2.05 0 2.83L4 21.41c.39.39.9.59 1.41.59.51 0 1.02-.2 1.41-.59l7.78-7.78 2.81-2.81c.8-.78.8-2.07 0-2.86zM5.41 20L4 18.59l7.72-7.72 1.47 1.35L5.41 20z\"/>\n",
              "  </svg>\n",
              "      </button>\n",
              "      \n",
              "  <style>\n",
              "    .colab-df-container {\n",
              "      display:flex;\n",
              "      flex-wrap:wrap;\n",
              "      gap: 12px;\n",
              "    }\n",
              "\n",
              "    .colab-df-convert {\n",
              "      background-color: #E8F0FE;\n",
              "      border: none;\n",
              "      border-radius: 50%;\n",
              "      cursor: pointer;\n",
              "      display: none;\n",
              "      fill: #1967D2;\n",
              "      height: 32px;\n",
              "      padding: 0 0 0 0;\n",
              "      width: 32px;\n",
              "    }\n",
              "\n",
              "    .colab-df-convert:hover {\n",
              "      background-color: #E2EBFA;\n",
              "      box-shadow: 0px 1px 2px rgba(60, 64, 67, 0.3), 0px 1px 3px 1px rgba(60, 64, 67, 0.15);\n",
              "      fill: #174EA6;\n",
              "    }\n",
              "\n",
              "    [theme=dark] .colab-df-convert {\n",
              "      background-color: #3B4455;\n",
              "      fill: #D2E3FC;\n",
              "    }\n",
              "\n",
              "    [theme=dark] .colab-df-convert:hover {\n",
              "      background-color: #434B5C;\n",
              "      box-shadow: 0px 1px 3px 1px rgba(0, 0, 0, 0.15);\n",
              "      filter: drop-shadow(0px 1px 2px rgba(0, 0, 0, 0.3));\n",
              "      fill: #FFFFFF;\n",
              "    }\n",
              "  </style>\n",
              "\n",
              "      <script>\n",
              "        const buttonEl =\n",
              "          document.querySelector('#df-0c49ba77-77cf-4f47-b1ce-9869accc7f98 button.colab-df-convert');\n",
              "        buttonEl.style.display =\n",
              "          google.colab.kernel.accessAllowed ? 'block' : 'none';\n",
              "\n",
              "        async function convertToInteractive(key) {\n",
              "          const element = document.querySelector('#df-0c49ba77-77cf-4f47-b1ce-9869accc7f98');\n",
              "          const dataTable =\n",
              "            await google.colab.kernel.invokeFunction('convertToInteractive',\n",
              "                                                     [key], {});\n",
              "          if (!dataTable) return;\n",
              "\n",
              "          const docLinkHtml = 'Like what you see? Visit the ' +\n",
              "            '<a target=\"_blank\" href=https://colab.research.google.com/notebooks/data_table.ipynb>data table notebook</a>'\n",
              "            + ' to learn more about interactive tables.';\n",
              "          element.innerHTML = '';\n",
              "          dataTable['output_type'] = 'display_data';\n",
              "          await google.colab.output.renderOutput(dataTable, element);\n",
              "          const docLink = document.createElement('div');\n",
              "          docLink.innerHTML = docLinkHtml;\n",
              "          element.appendChild(docLink);\n",
              "        }\n",
              "      </script>\n",
              "    </div>\n",
              "  </div>\n",
              "  "
            ]
          },
          "metadata": {},
          "execution_count": 65
        }
      ]
    },
    {
      "cell_type": "markdown",
      "source": [
        "# **Machine Learning**"
      ],
      "metadata": {
        "id": "h7nRjHT9xx7K"
      }
    },
    {
      "cell_type": "markdown",
      "source": [
        "**Code:**"
      ],
      "metadata": {
        "id": "X1y341b9zaNA"
      }
    },
    {
      "cell_type": "code",
      "source": [
        "x = churn_data_copy.drop('churn', axis='columns')\n",
        "y = churn_data_copy.churn"
      ],
      "metadata": {
        "id": "CkXB7y0Oyw9X"
      },
      "execution_count": 66,
      "outputs": []
    },
    {
      "cell_type": "code",
      "source": [
        "from sklearn.model_selection import train_test_split\n",
        "\n",
        "x_train, x_test, y_train, y_test = train_test_split(x, y, test_size=0.2, random_state=5)"
      ],
      "metadata": {
        "id": "eGoPAnbsx3XO"
      },
      "execution_count": 67,
      "outputs": []
    },
    {
      "cell_type": "markdown",
      "source": [
        "**Test:**"
      ],
      "metadata": {
        "id": "tj3kyJkezmMv"
      }
    },
    {
      "cell_type": "code",
      "source": [
        "x_train.shape"
      ],
      "metadata": {
        "colab": {
          "base_uri": "https://localhost:8080/"
        },
        "id": "ZHIVQEdPzfBY",
        "outputId": "08fe8bec-393d-4951-b348-97c98e424992"
      },
      "execution_count": 68,
      "outputs": [
        {
          "output_type": "execute_result",
          "data": {
            "text/plain": [
              "(5625, 22)"
            ]
          },
          "metadata": {},
          "execution_count": 68
        }
      ]
    },
    {
      "cell_type": "code",
      "source": [
        "len(x_train.columns)"
      ],
      "metadata": {
        "colab": {
          "base_uri": "https://localhost:8080/"
        },
        "id": "QUl_jWJi0JC8",
        "outputId": "e9535032-4920-45f0-e38e-4e1e5a76b303"
      },
      "execution_count": 69,
      "outputs": [
        {
          "output_type": "execute_result",
          "data": {
            "text/plain": [
              "22"
            ]
          },
          "metadata": {},
          "execution_count": 69
        }
      ]
    },
    {
      "cell_type": "markdown",
      "source": [
        "**Code:**"
      ],
      "metadata": {
        "id": "N2wt_nhIz5Hf"
      }
    },
    {
      "cell_type": "code",
      "source": [
        "import tensorflow as tf\n",
        "from tensorflow.keras import Sequential\n",
        "from tensorflow.keras.layers import Dense\n",
        "\n",
        "model = Sequential([\n",
        "    Dense(units=32, input_shape=(22,), activation='relu'),\n",
        "    Dense(units=32, activation='relu'),\n",
        "    Dense(1, activation='sigmoid'),\n",
        "])"
      ],
      "metadata": {
        "id": "1IdMvyajz70B"
      },
      "execution_count": 92,
      "outputs": []
    },
    {
      "cell_type": "code",
      "source": [
        "model.compile(optimizer='adam', loss='binary_crossentropy', metrics=['accuracy'])"
      ],
      "metadata": {
        "id": "BBnjhwN0ok1F"
      },
      "execution_count": 93,
      "outputs": []
    },
    {
      "cell_type": "code",
      "source": [
        "model.fit(x_train, y_train, epochs=100)"
      ],
      "metadata": {
        "colab": {
          "base_uri": "https://localhost:8080/"
        },
        "id": "fHqkcorLpAXm",
        "outputId": "f5d66c61-e135-4d3c-dabb-a13df7a5b445"
      },
      "execution_count": 94,
      "outputs": [
        {
          "output_type": "stream",
          "name": "stdout",
          "text": [
            "Epoch 1/100\n",
            "176/176 [==============================] - 1s 2ms/step - loss: 3.0506 - accuracy: 0.6444\n",
            "Epoch 2/100\n",
            "176/176 [==============================] - 0s 2ms/step - loss: 1.0261 - accuracy: 0.7042\n",
            "Epoch 3/100\n",
            "176/176 [==============================] - 0s 2ms/step - loss: 1.0206 - accuracy: 0.7323\n",
            "Epoch 4/100\n",
            "176/176 [==============================] - 0s 2ms/step - loss: 0.9553 - accuracy: 0.7476\n",
            "Epoch 5/100\n",
            "176/176 [==============================] - 0s 2ms/step - loss: 0.7499 - accuracy: 0.7536\n",
            "Epoch 6/100\n",
            "176/176 [==============================] - 0s 2ms/step - loss: 0.8781 - accuracy: 0.7463\n",
            "Epoch 7/100\n",
            "176/176 [==============================] - 0s 2ms/step - loss: 0.7107 - accuracy: 0.7616\n",
            "Epoch 8/100\n",
            "176/176 [==============================] - 0s 2ms/step - loss: 0.8152 - accuracy: 0.7634\n",
            "Epoch 9/100\n",
            "176/176 [==============================] - 0s 2ms/step - loss: 0.9129 - accuracy: 0.7593\n",
            "Epoch 10/100\n",
            "176/176 [==============================] - 0s 2ms/step - loss: 0.7725 - accuracy: 0.7644\n",
            "Epoch 11/100\n",
            "176/176 [==============================] - 0s 2ms/step - loss: 0.5966 - accuracy: 0.7737\n",
            "Epoch 12/100\n",
            "176/176 [==============================] - 0s 2ms/step - loss: 0.6035 - accuracy: 0.7716\n",
            "Epoch 13/100\n",
            "176/176 [==============================] - 0s 2ms/step - loss: 0.7088 - accuracy: 0.7694\n",
            "Epoch 14/100\n",
            "176/176 [==============================] - 0s 2ms/step - loss: 0.8051 - accuracy: 0.7566\n",
            "Epoch 15/100\n",
            "176/176 [==============================] - 0s 2ms/step - loss: 0.8948 - accuracy: 0.7509\n",
            "Epoch 16/100\n",
            "176/176 [==============================] - 0s 2ms/step - loss: 0.6440 - accuracy: 0.7678\n",
            "Epoch 17/100\n",
            "176/176 [==============================] - 0s 2ms/step - loss: 0.6127 - accuracy: 0.7652\n",
            "Epoch 18/100\n",
            "176/176 [==============================] - 0s 2ms/step - loss: 0.6406 - accuracy: 0.7692\n",
            "Epoch 19/100\n",
            "176/176 [==============================] - 0s 2ms/step - loss: 0.7942 - accuracy: 0.7538\n",
            "Epoch 20/100\n",
            "176/176 [==============================] - 0s 2ms/step - loss: 0.7229 - accuracy: 0.7668\n",
            "Epoch 21/100\n",
            "176/176 [==============================] - 0s 2ms/step - loss: 0.5884 - accuracy: 0.7756\n",
            "Epoch 22/100\n",
            "176/176 [==============================] - 0s 2ms/step - loss: 0.6572 - accuracy: 0.7682\n",
            "Epoch 23/100\n",
            "176/176 [==============================] - 0s 2ms/step - loss: 0.5877 - accuracy: 0.7707\n",
            "Epoch 24/100\n",
            "176/176 [==============================] - 0s 2ms/step - loss: 0.6635 - accuracy: 0.7673\n",
            "Epoch 25/100\n",
            "176/176 [==============================] - 0s 2ms/step - loss: 0.6395 - accuracy: 0.7678\n",
            "Epoch 26/100\n",
            "176/176 [==============================] - 0s 2ms/step - loss: 0.5207 - accuracy: 0.7829\n",
            "Epoch 27/100\n",
            "176/176 [==============================] - 0s 2ms/step - loss: 0.7241 - accuracy: 0.7684\n",
            "Epoch 28/100\n",
            "176/176 [==============================] - 0s 2ms/step - loss: 0.5894 - accuracy: 0.7748\n",
            "Epoch 29/100\n",
            "176/176 [==============================] - 0s 2ms/step - loss: 0.5824 - accuracy: 0.7724\n",
            "Epoch 30/100\n",
            "176/176 [==============================] - 0s 2ms/step - loss: 0.5845 - accuracy: 0.7788\n",
            "Epoch 31/100\n",
            "176/176 [==============================] - 0s 2ms/step - loss: 0.5289 - accuracy: 0.7788\n",
            "Epoch 32/100\n",
            "176/176 [==============================] - 0s 2ms/step - loss: 0.6189 - accuracy: 0.7737\n",
            "Epoch 33/100\n",
            "176/176 [==============================] - 0s 2ms/step - loss: 0.5570 - accuracy: 0.7794\n",
            "Epoch 34/100\n",
            "176/176 [==============================] - 0s 2ms/step - loss: 0.5557 - accuracy: 0.7726\n",
            "Epoch 35/100\n",
            "176/176 [==============================] - 0s 2ms/step - loss: 0.5372 - accuracy: 0.7797\n",
            "Epoch 36/100\n",
            "176/176 [==============================] - 0s 2ms/step - loss: 0.6274 - accuracy: 0.7776\n",
            "Epoch 37/100\n",
            "176/176 [==============================] - 0s 2ms/step - loss: 0.6093 - accuracy: 0.7710\n",
            "Epoch 38/100\n",
            "176/176 [==============================] - 0s 2ms/step - loss: 0.5942 - accuracy: 0.7774\n",
            "Epoch 39/100\n",
            "176/176 [==============================] - 0s 2ms/step - loss: 0.5000 - accuracy: 0.7842\n",
            "Epoch 40/100\n",
            "176/176 [==============================] - 0s 2ms/step - loss: 0.7618 - accuracy: 0.7678\n",
            "Epoch 41/100\n",
            "176/176 [==============================] - 0s 2ms/step - loss: 0.5982 - accuracy: 0.7769\n",
            "Epoch 42/100\n",
            "176/176 [==============================] - 0s 2ms/step - loss: 0.4940 - accuracy: 0.7856\n",
            "Epoch 43/100\n",
            "176/176 [==============================] - 0s 2ms/step - loss: 0.5527 - accuracy: 0.7765\n",
            "Epoch 44/100\n",
            "176/176 [==============================] - 0s 2ms/step - loss: 0.4969 - accuracy: 0.7876\n",
            "Epoch 45/100\n",
            "176/176 [==============================] - 0s 2ms/step - loss: 0.5335 - accuracy: 0.7799\n",
            "Epoch 46/100\n",
            "176/176 [==============================] - 0s 2ms/step - loss: 0.5230 - accuracy: 0.7829\n",
            "Epoch 47/100\n",
            "176/176 [==============================] - 0s 2ms/step - loss: 0.4947 - accuracy: 0.7851\n",
            "Epoch 48/100\n",
            "176/176 [==============================] - 0s 2ms/step - loss: 0.5109 - accuracy: 0.7877\n",
            "Epoch 49/100\n",
            "176/176 [==============================] - 0s 2ms/step - loss: 0.5094 - accuracy: 0.7829\n",
            "Epoch 50/100\n",
            "176/176 [==============================] - 0s 2ms/step - loss: 0.5205 - accuracy: 0.7861\n",
            "Epoch 51/100\n",
            "176/176 [==============================] - 0s 2ms/step - loss: 0.5177 - accuracy: 0.7870\n",
            "Epoch 52/100\n",
            "176/176 [==============================] - 0s 2ms/step - loss: 0.4730 - accuracy: 0.7858\n",
            "Epoch 53/100\n",
            "176/176 [==============================] - 0s 2ms/step - loss: 0.6088 - accuracy: 0.7710\n",
            "Epoch 54/100\n",
            "176/176 [==============================] - 0s 2ms/step - loss: 0.4523 - accuracy: 0.7952\n",
            "Epoch 55/100\n",
            "176/176 [==============================] - 0s 2ms/step - loss: 0.4895 - accuracy: 0.7893\n",
            "Epoch 56/100\n",
            "176/176 [==============================] - 0s 2ms/step - loss: 0.5431 - accuracy: 0.7819\n",
            "Epoch 57/100\n",
            "176/176 [==============================] - 0s 2ms/step - loss: 0.5471 - accuracy: 0.7783\n",
            "Epoch 58/100\n",
            "176/176 [==============================] - 0s 2ms/step - loss: 0.4734 - accuracy: 0.7918\n",
            "Epoch 59/100\n",
            "176/176 [==============================] - 0s 2ms/step - loss: 0.4853 - accuracy: 0.7909\n",
            "Epoch 60/100\n",
            "176/176 [==============================] - 0s 2ms/step - loss: 0.6177 - accuracy: 0.7733\n",
            "Epoch 61/100\n",
            "176/176 [==============================] - 0s 2ms/step - loss: 0.4698 - accuracy: 0.7952\n",
            "Epoch 62/100\n",
            "176/176 [==============================] - 0s 2ms/step - loss: 0.4939 - accuracy: 0.7852\n",
            "Epoch 63/100\n",
            "176/176 [==============================] - 0s 2ms/step - loss: 0.5225 - accuracy: 0.7817\n",
            "Epoch 64/100\n",
            "176/176 [==============================] - 0s 2ms/step - loss: 0.4657 - accuracy: 0.7932\n",
            "Epoch 65/100\n",
            "176/176 [==============================] - 0s 2ms/step - loss: 0.4728 - accuracy: 0.7909\n",
            "Epoch 66/100\n",
            "176/176 [==============================] - 0s 2ms/step - loss: 0.4755 - accuracy: 0.7909\n",
            "Epoch 67/100\n",
            "176/176 [==============================] - 0s 2ms/step - loss: 0.4514 - accuracy: 0.7964\n",
            "Epoch 68/100\n",
            "176/176 [==============================] - 0s 2ms/step - loss: 0.4574 - accuracy: 0.7902\n",
            "Epoch 69/100\n",
            "176/176 [==============================] - 0s 2ms/step - loss: 0.4707 - accuracy: 0.7895\n",
            "Epoch 70/100\n",
            "176/176 [==============================] - 0s 2ms/step - loss: 0.4743 - accuracy: 0.7940\n",
            "Epoch 71/100\n",
            "176/176 [==============================] - 0s 2ms/step - loss: 0.5631 - accuracy: 0.7828\n",
            "Epoch 72/100\n",
            "176/176 [==============================] - 0s 2ms/step - loss: 0.4547 - accuracy: 0.7931\n",
            "Epoch 73/100\n",
            "176/176 [==============================] - 0s 2ms/step - loss: 0.4569 - accuracy: 0.7945\n",
            "Epoch 74/100\n",
            "176/176 [==============================] - 0s 2ms/step - loss: 0.4491 - accuracy: 0.7954\n",
            "Epoch 75/100\n",
            "176/176 [==============================] - 0s 2ms/step - loss: 0.4475 - accuracy: 0.7943\n",
            "Epoch 76/100\n",
            "176/176 [==============================] - 0s 2ms/step - loss: 0.4717 - accuracy: 0.7881\n",
            "Epoch 77/100\n",
            "176/176 [==============================] - 0s 2ms/step - loss: 0.4590 - accuracy: 0.7934\n",
            "Epoch 78/100\n",
            "176/176 [==============================] - 0s 2ms/step - loss: 0.4573 - accuracy: 0.7925\n",
            "Epoch 79/100\n",
            "176/176 [==============================] - 0s 2ms/step - loss: 0.4594 - accuracy: 0.7938\n",
            "Epoch 80/100\n",
            "176/176 [==============================] - 0s 2ms/step - loss: 0.5165 - accuracy: 0.7872\n",
            "Epoch 81/100\n",
            "176/176 [==============================] - 0s 2ms/step - loss: 0.4794 - accuracy: 0.7915\n",
            "Epoch 82/100\n",
            "176/176 [==============================] - 0s 2ms/step - loss: 0.4412 - accuracy: 0.8002\n",
            "Epoch 83/100\n",
            "176/176 [==============================] - 0s 2ms/step - loss: 0.4494 - accuracy: 0.7993\n",
            "Epoch 84/100\n",
            "176/176 [==============================] - 0s 2ms/step - loss: 0.4543 - accuracy: 0.7940\n",
            "Epoch 85/100\n",
            "176/176 [==============================] - 0s 2ms/step - loss: 0.4392 - accuracy: 0.7977\n",
            "Epoch 86/100\n",
            "176/176 [==============================] - 0s 2ms/step - loss: 0.4566 - accuracy: 0.7911\n",
            "Epoch 87/100\n",
            "176/176 [==============================] - 0s 2ms/step - loss: 0.4323 - accuracy: 0.7984\n",
            "Epoch 88/100\n",
            "176/176 [==============================] - 0s 2ms/step - loss: 0.4388 - accuracy: 0.8020\n",
            "Epoch 89/100\n",
            "176/176 [==============================] - 0s 2ms/step - loss: 0.4430 - accuracy: 0.7986\n",
            "Epoch 90/100\n",
            "176/176 [==============================] - 0s 2ms/step - loss: 0.4764 - accuracy: 0.7895\n",
            "Epoch 91/100\n",
            "176/176 [==============================] - 0s 2ms/step - loss: 0.4350 - accuracy: 0.7966\n",
            "Epoch 92/100\n",
            "176/176 [==============================] - 0s 2ms/step - loss: 0.4259 - accuracy: 0.8037\n",
            "Epoch 93/100\n",
            "176/176 [==============================] - 0s 2ms/step - loss: 0.4374 - accuracy: 0.7972\n",
            "Epoch 94/100\n",
            "176/176 [==============================] - 0s 2ms/step - loss: 0.4360 - accuracy: 0.7989\n",
            "Epoch 95/100\n",
            "176/176 [==============================] - 0s 2ms/step - loss: 0.4355 - accuracy: 0.8020\n",
            "Epoch 96/100\n",
            "176/176 [==============================] - 0s 2ms/step - loss: 0.4303 - accuracy: 0.7996\n",
            "Epoch 97/100\n",
            "176/176 [==============================] - 0s 2ms/step - loss: 0.4319 - accuracy: 0.8000\n",
            "Epoch 98/100\n",
            "176/176 [==============================] - 0s 2ms/step - loss: 0.4275 - accuracy: 0.8025\n",
            "Epoch 99/100\n",
            "176/176 [==============================] - 0s 2ms/step - loss: 0.4312 - accuracy: 0.8037\n",
            "Epoch 100/100\n",
            "176/176 [==============================] - 0s 2ms/step - loss: 0.4296 - accuracy: 0.7980\n"
          ]
        },
        {
          "output_type": "execute_result",
          "data": {
            "text/plain": [
              "<keras.callbacks.History at 0x7fbd6eb31a90>"
            ]
          },
          "metadata": {},
          "execution_count": 94
        }
      ]
    }
  ]
}